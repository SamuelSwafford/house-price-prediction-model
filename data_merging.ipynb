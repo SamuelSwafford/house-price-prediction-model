{
 "cells": [
  {
   "cell_type": "code",
   "execution_count": 3,
   "metadata": {},
   "outputs": [],
   "source": [
    "import pandas as pd\n",
    "import numpy as np\n",
    "import matplotlib.pyplot as plt\n"
   ]
  },
  {
   "cell_type": "code",
   "execution_count": 4,
   "metadata": {},
   "outputs": [
    {
     "data": {
      "text/html": [
       "<div>\n",
       "<style scoped>\n",
       "    .dataframe tbody tr th:only-of-type {\n",
       "        vertical-align: middle;\n",
       "    }\n",
       "\n",
       "    .dataframe tbody tr th {\n",
       "        vertical-align: top;\n",
       "    }\n",
       "\n",
       "    .dataframe thead th {\n",
       "        text-align: right;\n",
       "    }\n",
       "</style>\n",
       "<table border=\"1\" class=\"dataframe\">\n",
       "  <thead>\n",
       "    <tr style=\"text-align: right;\">\n",
       "      <th></th>\n",
       "      <th>#</th>\n",
       "      <th>Listing ID</th>\n",
       "      <th>St</th>\n",
       "      <th>MLS Area</th>\n",
       "      <th>Address</th>\n",
       "      <th># Beds</th>\n",
       "      <th># Full Baths</th>\n",
       "      <th># Half Baths</th>\n",
       "      <th># Garage Spaces</th>\n",
       "      <th>Levels</th>\n",
       "      <th>Year Built</th>\n",
       "      <th>Acres</th>\n",
       "      <th>SqFt</th>\n",
       "      <th>List Price</th>\n",
       "      <th>LP$/SqFt</th>\n",
       "      <th>Close$/SqFt</th>\n",
       "      <th>Close Price</th>\n",
       "      <th>Close Date</th>\n",
       "      <th>DOM</th>\n",
       "      <th>CDOM</th>\n",
       "    </tr>\n",
       "  </thead>\n",
       "  <tbody>\n",
       "    <tr>\n",
       "      <th>0</th>\n",
       "      <td>1</td>\n",
       "      <td>9214811</td>\n",
       "      <td>C</td>\n",
       "      <td>1A</td>\n",
       "      <td>9226 Jollyville Rd Unit #281</td>\n",
       "      <td>1</td>\n",
       "      <td>1</td>\n",
       "      <td>0</td>\n",
       "      <td>0.0</td>\n",
       "      <td>1</td>\n",
       "      <td>1983</td>\n",
       "      <td>0.0521</td>\n",
       "      <td>759</td>\n",
       "      <td>$265,000</td>\n",
       "      <td>$349.14</td>\n",
       "      <td>$342.56</td>\n",
       "      <td>$260,000</td>\n",
       "      <td>04/09/2024</td>\n",
       "      <td>146</td>\n",
       "      <td>145</td>\n",
       "    </tr>\n",
       "    <tr>\n",
       "      <th>1</th>\n",
       "      <td>1</td>\n",
       "      <td>8006884</td>\n",
       "      <td>C</td>\n",
       "      <td>1A</td>\n",
       "      <td>3463 North Hills Dr</td>\n",
       "      <td>2</td>\n",
       "      <td>2</td>\n",
       "      <td>1</td>\n",
       "      <td>2.0</td>\n",
       "      <td>2</td>\n",
       "      <td>1973</td>\n",
       "      <td>0.0344</td>\n",
       "      <td>1,520</td>\n",
       "      <td>$300,000</td>\n",
       "      <td>$197.37</td>\n",
       "      <td>$194.08</td>\n",
       "      <td>$295,000</td>\n",
       "      <td>02/14/2024</td>\n",
       "      <td>134</td>\n",
       "      <td>133</td>\n",
       "    </tr>\n",
       "    <tr>\n",
       "      <th>2</th>\n",
       "      <td>1</td>\n",
       "      <td>5125510</td>\n",
       "      <td>C</td>\n",
       "      <td>1A</td>\n",
       "      <td>6002 Mountainclimb Dr</td>\n",
       "      <td>4</td>\n",
       "      <td>3</td>\n",
       "      <td>0</td>\n",
       "      <td>0.0</td>\n",
       "      <td>1</td>\n",
       "      <td>1962</td>\n",
       "      <td>0.3088</td>\n",
       "      <td>2,729</td>\n",
       "      <td>$845,000</td>\n",
       "      <td>$309.64</td>\n",
       "      <td>$326.13</td>\n",
       "      <td>$890,000</td>\n",
       "      <td>04/09/2024</td>\n",
       "      <td>4</td>\n",
       "      <td>3</td>\n",
       "    </tr>\n",
       "    <tr>\n",
       "      <th>3</th>\n",
       "      <td>1</td>\n",
       "      <td>4286934</td>\n",
       "      <td>C</td>\n",
       "      <td>1A</td>\n",
       "      <td>7710 Shadyrock Dr</td>\n",
       "      <td>4</td>\n",
       "      <td>2</td>\n",
       "      <td>1</td>\n",
       "      <td>2.0</td>\n",
       "      <td>1</td>\n",
       "      <td>1970</td>\n",
       "      <td>0.2897</td>\n",
       "      <td>2,336</td>\n",
       "      <td>$980,000</td>\n",
       "      <td>$419.52</td>\n",
       "      <td>$395.98</td>\n",
       "      <td>$925,000</td>\n",
       "      <td>02/23/2024</td>\n",
       "      <td>23</td>\n",
       "      <td>22</td>\n",
       "    </tr>\n",
       "    <tr>\n",
       "      <th>4</th>\n",
       "      <td>1</td>\n",
       "      <td>6981284</td>\n",
       "      <td>C</td>\n",
       "      <td>1A</td>\n",
       "      <td>8807 Wildridge Dr</td>\n",
       "      <td>4</td>\n",
       "      <td>2</td>\n",
       "      <td>0</td>\n",
       "      <td>2.0</td>\n",
       "      <td>1</td>\n",
       "      <td>1971</td>\n",
       "      <td>0.2675</td>\n",
       "      <td>1,866</td>\n",
       "      <td>$996,500</td>\n",
       "      <td>$534.03</td>\n",
       "      <td>$499.46</td>\n",
       "      <td>$932,000</td>\n",
       "      <td>03/22/2024</td>\n",
       "      <td>15</td>\n",
       "      <td>15</td>\n",
       "    </tr>\n",
       "  </tbody>\n",
       "</table>\n",
       "</div>"
      ],
      "text/plain": [
       "   #  Listing ID St MLS Area                       Address  # Beds  \\\n",
       "0  1     9214811  C       1A  9226 Jollyville Rd Unit #281       1   \n",
       "1  1     8006884  C       1A           3463 North Hills Dr       2   \n",
       "2  1     5125510  C       1A         6002 Mountainclimb Dr       4   \n",
       "3  1     4286934  C       1A             7710 Shadyrock Dr       4   \n",
       "4  1     6981284  C       1A             8807 Wildridge Dr       4   \n",
       "\n",
       "   # Full Baths  # Half Baths  # Garage Spaces Levels  Year Built   Acres  \\\n",
       "0             1             0              0.0      1        1983  0.0521   \n",
       "1             2             1              2.0      2        1973  0.0344   \n",
       "2             3             0              0.0      1        1962  0.3088   \n",
       "3             2             1              2.0      1        1970  0.2897   \n",
       "4             2             0              2.0      1        1971  0.2675   \n",
       "\n",
       "    SqFt List Price LP$/SqFt Close$/SqFt Close Price  Close Date  DOM  CDOM  \n",
       "0    759   $265,000  $349.14     $342.56    $260,000  04/09/2024  146   145  \n",
       "1  1,520   $300,000  $197.37     $194.08    $295,000  02/14/2024  134   133  \n",
       "2  2,729   $845,000  $309.64     $326.13    $890,000  04/09/2024    4     3  \n",
       "3  2,336   $980,000  $419.52     $395.98    $925,000  02/23/2024   23    22  \n",
       "4  1,866   $996,500  $534.03     $499.46    $932,000  03/22/2024   15    15  "
      ]
     },
     "execution_count": 4,
     "metadata": {},
     "output_type": "execute_result"
    }
   ],
   "source": [
    "import glob\n",
    "import pandas as pd\n",
    "\n",
    "csv_files = glob.glob('resources/*.csv')\n",
    "\n",
    "data = pd.concat([pd.read_csv(file) for file in csv_files])\n",
    "\n",
    "data.to_csv('data.csv', index=False)\n",
    "\n",
    "data.head()\n"
   ]
  },
  {
   "cell_type": "code",
   "execution_count": 7,
   "metadata": {},
   "outputs": [
    {
     "data": {
      "text/plain": [
       "Index(['#', 'Listing ID', 'St', 'MLS Area', 'Address', '# Beds',\n",
       "       '# Full Baths', '# Half Baths', '# Garage Spaces', 'Levels',\n",
       "       'Year Built', 'Acres', 'SqFt', 'List Price', 'LP$/SqFt', 'Close$/SqFt',\n",
       "       'Close Price', 'Close Date', 'DOM', 'CDOM'],\n",
       "      dtype='object')"
      ]
     },
     "execution_count": 7,
     "metadata": {},
     "output_type": "execute_result"
    }
   ],
   "source": [
    "data.columns"
   ]
  },
  {
   "cell_type": "code",
   "execution_count": 10,
   "metadata": {},
   "outputs": [],
   "source": [
    "mls = data['MLS Area'].unique()"
   ]
  },
  {
   "cell_type": "code",
   "execution_count": 12,
   "metadata": {},
   "outputs": [
    {
     "data": {
      "text/plain": [
       "323"
      ]
     },
     "execution_count": 12,
     "metadata": {},
     "output_type": "execute_result"
    }
   ],
   "source": [
    "y = []\n",
    "for x in mls:\n",
    "    a = len(data[data['MLS Area'] == x])\n",
    "    y.append(a)\n",
    "\n",
    "max(y)"
   ]
  },
  {
   "cell_type": "code",
   "execution_count": 13,
   "metadata": {},
   "outputs": [
    {
     "data": {
      "text/plain": [
       "MLS Area\n",
       "RRE    323\n",
       "LH     197\n",
       "HH     120\n",
       "RRW    112\n",
       "HS     111\n",
       "      ... \n",
       "SH       2\n",
       "GP       1\n",
       "FC       1\n",
       "LP       1\n",
       "BL       1\n",
       "Name: count, Length: 65, dtype: int64"
      ]
     },
     "execution_count": 13,
     "metadata": {},
     "output_type": "execute_result"
    }
   ],
   "source": [
    "data['MLS Area'].value_counts()"
   ]
  },
  {
   "cell_type": "code",
   "execution_count": null,
   "metadata": {},
   "outputs": [],
   "source": []
  }
 ],
 "metadata": {
  "kernelspec": {
   "display_name": "bootcamp",
   "language": "python",
   "name": "python3"
  },
  "language_info": {
   "codemirror_mode": {
    "name": "ipython",
    "version": 3
   },
   "file_extension": ".py",
   "mimetype": "text/x-python",
   "name": "python",
   "nbconvert_exporter": "python",
   "pygments_lexer": "ipython3",
   "version": "3.11.5"
  }
 },
 "nbformat": 4,
 "nbformat_minor": 2
}

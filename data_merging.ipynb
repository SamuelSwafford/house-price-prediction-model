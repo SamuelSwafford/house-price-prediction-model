{
 "cells": [
  {
   "cell_type": "code",
   "execution_count": 25,
   "metadata": {},
   "outputs": [
    {
     "name": "stdout",
     "output_type": "stream",
     "text": [
      "All files have been successfully merged and saved to 'data.csv'.\n"
     ]
    },
    {
     "data": {
      "text/html": [
       "<div>\n",
       "<style scoped>\n",
       "    .dataframe tbody tr th:only-of-type {\n",
       "        vertical-align: middle;\n",
       "    }\n",
       "\n",
       "    .dataframe tbody tr th {\n",
       "        vertical-align: top;\n",
       "    }\n",
       "\n",
       "    .dataframe thead th {\n",
       "        text-align: right;\n",
       "    }\n",
       "</style>\n",
       "<table border=\"1\" class=\"dataframe\">\n",
       "  <thead>\n",
       "    <tr style=\"text-align: right;\">\n",
       "      <th></th>\n",
       "      <th>#</th>\n",
       "      <th>Listing ID</th>\n",
       "      <th>St</th>\n",
       "      <th>MLS Area</th>\n",
       "      <th>Address</th>\n",
       "      <th># Beds</th>\n",
       "      <th># Full Baths</th>\n",
       "      <th># Half Baths</th>\n",
       "      <th># Garage Spaces</th>\n",
       "      <th>Levels</th>\n",
       "      <th>...</th>\n",
       "      <th>SqFt</th>\n",
       "      <th>List Price</th>\n",
       "      <th>LP$/SqFt</th>\n",
       "      <th>Close$/SqFt</th>\n",
       "      <th>Close Price</th>\n",
       "      <th>Close Date</th>\n",
       "      <th>DOM</th>\n",
       "      <th>CDOM</th>\n",
       "      <th>Zip Code</th>\n",
       "      <th>Type of Home</th>\n",
       "    </tr>\n",
       "  </thead>\n",
       "  <tbody>\n",
       "    <tr>\n",
       "      <th>0</th>\n",
       "      <td>1</td>\n",
       "      <td>6996515</td>\n",
       "      <td>C</td>\n",
       "      <td>HU</td>\n",
       "      <td>21608 Wilmiller Ln</td>\n",
       "      <td>4</td>\n",
       "      <td>2</td>\n",
       "      <td>1</td>\n",
       "      <td>2.0</td>\n",
       "      <td>2</td>\n",
       "      <td>...</td>\n",
       "      <td>2,581</td>\n",
       "      <td>$435,000</td>\n",
       "      <td>$168.54</td>\n",
       "      <td>$169.31</td>\n",
       "      <td>$437,000</td>\n",
       "      <td>03/05/2024</td>\n",
       "      <td>4</td>\n",
       "      <td>4</td>\n",
       "      <td>78660</td>\n",
       "      <td>Single Family</td>\n",
       "    </tr>\n",
       "    <tr>\n",
       "      <th>1</th>\n",
       "      <td>1</td>\n",
       "      <td>1659174</td>\n",
       "      <td>C</td>\n",
       "      <td>PF</td>\n",
       "      <td>808 Whitehall Dr</td>\n",
       "      <td>3</td>\n",
       "      <td>2</td>\n",
       "      <td>0</td>\n",
       "      <td>2.0</td>\n",
       "      <td>1</td>\n",
       "      <td>...</td>\n",
       "      <td>1,299</td>\n",
       "      <td>$275,000</td>\n",
       "      <td>$211.70</td>\n",
       "      <td>$184.76</td>\n",
       "      <td>$240,000</td>\n",
       "      <td>12/29/2023</td>\n",
       "      <td>8</td>\n",
       "      <td>7</td>\n",
       "      <td>78660</td>\n",
       "      <td>Single Family</td>\n",
       "    </tr>\n",
       "    <tr>\n",
       "      <th>2</th>\n",
       "      <td>1</td>\n",
       "      <td>5349770</td>\n",
       "      <td>C</td>\n",
       "      <td>PF</td>\n",
       "      <td>16131 Stoneham Cir</td>\n",
       "      <td>3</td>\n",
       "      <td>2</td>\n",
       "      <td>0</td>\n",
       "      <td>1.0</td>\n",
       "      <td>1</td>\n",
       "      <td>...</td>\n",
       "      <td>1,033</td>\n",
       "      <td>$265,000</td>\n",
       "      <td>$256.53</td>\n",
       "      <td>$242.01</td>\n",
       "      <td>$250,000</td>\n",
       "      <td>11/14/2023</td>\n",
       "      <td>20</td>\n",
       "      <td>20</td>\n",
       "      <td>78660</td>\n",
       "      <td>Single Family</td>\n",
       "    </tr>\n",
       "    <tr>\n",
       "      <th>3</th>\n",
       "      <td>1</td>\n",
       "      <td>7256633</td>\n",
       "      <td>C</td>\n",
       "      <td>PF</td>\n",
       "      <td>17228 Sandwick Dr</td>\n",
       "      <td>3</td>\n",
       "      <td>2</td>\n",
       "      <td>0</td>\n",
       "      <td>2.0</td>\n",
       "      <td>1</td>\n",
       "      <td>...</td>\n",
       "      <td>2,046</td>\n",
       "      <td>$235,000</td>\n",
       "      <td>$114.86</td>\n",
       "      <td>$123.66</td>\n",
       "      <td>$253,000</td>\n",
       "      <td>01/30/2024</td>\n",
       "      <td>4</td>\n",
       "      <td>4</td>\n",
       "      <td>78660</td>\n",
       "      <td>Single Family</td>\n",
       "    </tr>\n",
       "    <tr>\n",
       "      <th>4</th>\n",
       "      <td>1</td>\n",
       "      <td>8113439</td>\n",
       "      <td>C</td>\n",
       "      <td>PF</td>\n",
       "      <td>15520 Sutton Leighs Ln</td>\n",
       "      <td>3</td>\n",
       "      <td>2</td>\n",
       "      <td>0</td>\n",
       "      <td>2.0</td>\n",
       "      <td>1</td>\n",
       "      <td>...</td>\n",
       "      <td>1,616</td>\n",
       "      <td>$398,000</td>\n",
       "      <td>$246.29</td>\n",
       "      <td>$160.89</td>\n",
       "      <td>$260,000</td>\n",
       "      <td>10/30/2023</td>\n",
       "      <td>48</td>\n",
       "      <td>48</td>\n",
       "      <td>78660</td>\n",
       "      <td>Single Family</td>\n",
       "    </tr>\n",
       "  </tbody>\n",
       "</table>\n",
       "<p>5 rows × 22 columns</p>\n",
       "</div>"
      ],
      "text/plain": [
       "   #  Listing ID St MLS Area                 Address  # Beds  # Full Baths  \\\n",
       "0  1     6996515  C       HU      21608 Wilmiller Ln       4             2   \n",
       "1  1     1659174  C       PF        808 Whitehall Dr       3             2   \n",
       "2  1     5349770  C       PF      16131 Stoneham Cir       3             2   \n",
       "3  1     7256633  C       PF       17228 Sandwick Dr       3             2   \n",
       "4  1     8113439  C       PF  15520 Sutton Leighs Ln       3             2   \n",
       "\n",
       "   # Half Baths  # Garage Spaces Levels  ...   SqFt  List Price LP$/SqFt  \\\n",
       "0             1              2.0      2  ...  2,581    $435,000  $168.54   \n",
       "1             0              2.0      1  ...  1,299    $275,000  $211.70   \n",
       "2             0              1.0      1  ...  1,033    $265,000  $256.53   \n",
       "3             0              2.0      1  ...  2,046    $235,000  $114.86   \n",
       "4             0              2.0      1  ...  1,616    $398,000  $246.29   \n",
       "\n",
       "  Close$/SqFt Close Price  Close Date DOM CDOM  Zip Code   Type of Home  \n",
       "0     $169.31    $437,000  03/05/2024   4    4     78660  Single Family  \n",
       "1     $184.76    $240,000  12/29/2023   8    7     78660  Single Family  \n",
       "2     $242.01    $250,000  11/14/2023  20   20     78660  Single Family  \n",
       "3     $123.66    $253,000  01/30/2024   4    4     78660  Single Family  \n",
       "4     $160.89    $260,000  10/30/2023  48   48     78660  Single Family  \n",
       "\n",
       "[5 rows x 22 columns]"
      ]
     },
     "execution_count": 25,
     "metadata": {},
     "output_type": "execute_result"
    }
   ],
   "source": [
    "import pandas as pd\n",
    "import os\n",
    "\n",
    "# Define the directory containing the CSV files\n",
    "directory = 'resources'\n",
    "\n",
    "# Prepare an empty list to collect dataframes\n",
    "dataframes = []\n",
    "\n",
    "# Loop through each file in the directory\n",
    "for filename in os.listdir(directory):\n",
    "    if filename.endswith('.csv'):\n",
    "        # Extract the zip code and type of home from the filename\n",
    "        zip_code = filename[:5]\n",
    "        if 'SF' in filename:\n",
    "            home_type = 'Single Family'\n",
    "        elif 'CONDO' in filename:\n",
    "            home_type = 'Condo'\n",
    "\n",
    "        # Load the CSV file into a DataFrame\n",
    "        file_path = os.path.join(directory, filename)\n",
    "        df = pd.read_csv(file_path)\n",
    "\n",
    "        # Add the zip code and home type as new columns\n",
    "        df['Zip Code'] = zip_code\n",
    "        df['Type of Home'] = home_type\n",
    "\n",
    "        # Append the DataFrame to the list\n",
    "        dataframes.append(df)\n",
    "\n",
    "# Concatenate all dataframes into one\n",
    "combined_df = pd.concat(dataframes, ignore_index=True)\n",
    "\n",
    "# Save the combined dataframe to a new CSV file\n",
    "combined_df.to_csv('data.csv', index=False)\n",
    "\n",
    "print(\"All files have been successfully merged and saved to 'data.csv'.\")\n",
    "\n",
    "combined_df.head()\n"
   ]
  },
  {
   "cell_type": "code",
   "execution_count": 19,
   "metadata": {},
   "outputs": [
    {
     "data": {
      "text/plain": [
       "(2074, 22)"
      ]
     },
     "execution_count": 19,
     "metadata": {},
     "output_type": "execute_result"
    }
   ],
   "source": [
    "combined_df[combined_df['Type of Home'] == 'Single Family'].shape"
   ]
  },
  {
   "cell_type": "code",
   "execution_count": 20,
   "metadata": {},
   "outputs": [
    {
     "data": {
      "text/plain": [
       "(100, 22)"
      ]
     },
     "execution_count": 20,
     "metadata": {},
     "output_type": "execute_result"
    }
   ],
   "source": [
    "combined_df[combined_df['Type of Home'] == 'Condo'].shape"
   ]
  },
  {
   "cell_type": "code",
   "execution_count": 22,
   "metadata": {},
   "outputs": [
    {
     "data": {
      "text/plain": [
       "'78660'"
      ]
     },
     "execution_count": 22,
     "metadata": {},
     "output_type": "execute_result"
    }
   ],
   "source": [
    "most_common_zip = combined_df['Zip Code'].value_counts().idxmax()\n",
    "most_common_zip\n"
   ]
  },
  {
   "cell_type": "code",
   "execution_count": 28,
   "metadata": {},
   "outputs": [
    {
     "data": {
      "text/html": [
       "<div>\n",
       "<style scoped>\n",
       "    .dataframe tbody tr th:only-of-type {\n",
       "        vertical-align: middle;\n",
       "    }\n",
       "\n",
       "    .dataframe tbody tr th {\n",
       "        vertical-align: top;\n",
       "    }\n",
       "\n",
       "    .dataframe thead th {\n",
       "        text-align: right;\n",
       "    }\n",
       "</style>\n",
       "<table border=\"1\" class=\"dataframe\">\n",
       "  <thead>\n",
       "    <tr style=\"text-align: right;\">\n",
       "      <th></th>\n",
       "      <th>Zip Code</th>\n",
       "      <th>Count</th>\n",
       "    </tr>\n",
       "  </thead>\n",
       "  <tbody>\n",
       "    <tr>\n",
       "      <th>0</th>\n",
       "      <td>78660</td>\n",
       "      <td>517</td>\n",
       "    </tr>\n",
       "    <tr>\n",
       "      <th>1</th>\n",
       "      <td>78642</td>\n",
       "      <td>455</td>\n",
       "    </tr>\n",
       "    <tr>\n",
       "      <th>2</th>\n",
       "      <td>78666</td>\n",
       "      <td>408</td>\n",
       "    </tr>\n",
       "    <tr>\n",
       "      <th>3</th>\n",
       "      <td>78620</td>\n",
       "      <td>232</td>\n",
       "    </tr>\n",
       "    <tr>\n",
       "      <th>4</th>\n",
       "      <td>78744</td>\n",
       "      <td>206</td>\n",
       "    </tr>\n",
       "    <tr>\n",
       "      <th>5</th>\n",
       "      <td>78664</td>\n",
       "      <td>166</td>\n",
       "    </tr>\n",
       "    <tr>\n",
       "      <th>6</th>\n",
       "      <td>78746</td>\n",
       "      <td>99</td>\n",
       "    </tr>\n",
       "    <tr>\n",
       "      <th>7</th>\n",
       "      <td>78701</td>\n",
       "      <td>61</td>\n",
       "    </tr>\n",
       "    <tr>\n",
       "      <th>8</th>\n",
       "      <td>78758</td>\n",
       "      <td>30</td>\n",
       "    </tr>\n",
       "  </tbody>\n",
       "</table>\n",
       "</div>"
      ],
      "text/plain": [
       "  Zip Code  Count\n",
       "0    78660    517\n",
       "1    78642    455\n",
       "2    78666    408\n",
       "3    78620    232\n",
       "4    78744    206\n",
       "5    78664    166\n",
       "6    78746     99\n",
       "7    78701     61\n",
       "8    78758     30"
      ]
     },
     "execution_count": 28,
     "metadata": {},
     "output_type": "execute_result"
    }
   ],
   "source": [
    "zip_code_counts = combined_df['Zip Code'].value_counts().reset_index()\n",
    "zip_code_counts.columns = ['Zip Code', 'Count']\n",
    "zip_code_counts.head(100)\n"
   ]
  },
  {
   "cell_type": "code",
   "execution_count": 27,
   "metadata": {},
   "outputs": [
    {
     "name": "stdout",
     "output_type": "stream",
     "text": [
      "['78660' '78744' '78746' '78701' '78642' '78666' '78664' '78758' '78620']\n"
     ]
    }
   ],
   "source": [
    "unique_zip_codes = combined_df['Zip Code'].unique()\n",
    "print(unique_zip_codes)\n"
   ]
  },
  {
   "cell_type": "code",
   "execution_count": 29,
   "metadata": {},
   "outputs": [
    {
     "data": {
      "text/plain": [
       "Index(['#', 'Listing ID', 'St', 'MLS Area', 'Address', '# Beds',\n",
       "       '# Full Baths', '# Half Baths', '# Garage Spaces', 'Levels',\n",
       "       'Year Built', 'Acres', 'SqFt', 'List Price', 'LP$/SqFt', 'Close$/SqFt',\n",
       "       'Close Price', 'Close Date', 'DOM', 'CDOM', 'Zip Code', 'Type of Home'],\n",
       "      dtype='object')"
      ]
     },
     "execution_count": 29,
     "metadata": {},
     "output_type": "execute_result"
    }
   ],
   "source": [
    "pd.read_csv('data.csv').columns"
   ]
  },
  {
   "cell_type": "code",
   "execution_count": null,
   "metadata": {},
   "outputs": [],
   "source": []
  }
 ],
 "metadata": {
  "kernelspec": {
   "display_name": "bootcamp",
   "language": "python",
   "name": "python3"
  },
  "language_info": {
   "codemirror_mode": {
    "name": "ipython",
    "version": 3
   },
   "file_extension": ".py",
   "mimetype": "text/x-python",
   "name": "python",
   "nbconvert_exporter": "python",
   "pygments_lexer": "ipython3",
   "version": "3.11.5"
  }
 },
 "nbformat": 4,
 "nbformat_minor": 2
}

{
  "nbformat": 4,
  "nbformat_minor": 0,
  "metadata": {
    "colab": {
      "provenance": []
    },
    "kernelspec": {
      "name": "python3",
      "display_name": "Python 3"
    },
    "language_info": {
      "name": "python"
    }
  },
  "cells": [
    {
      "cell_type": "code",
      "execution_count": null,
      "metadata": {
        "colab": {
          "base_uri": "https://localhost:8080/"
        },
        "id": "WG86s8F1CEhy",
        "outputId": "8642d26d-0d3e-474f-80b5-bc4efdc48247"
      },
      "outputs": [
        {
          "output_type": "stream",
          "name": "stdout",
          "text": [
            "Requirement already satisfied: vaderSentiment in /usr/local/lib/python3.10/dist-packages (3.3.2)\n",
            "Requirement already satisfied: requests in /usr/local/lib/python3.10/dist-packages (from vaderSentiment) (2.31.0)\n",
            "Requirement already satisfied: charset-normalizer<4,>=2 in /usr/local/lib/python3.10/dist-packages (from requests->vaderSentiment) (3.3.2)\n",
            "Requirement already satisfied: idna<4,>=2.5 in /usr/local/lib/python3.10/dist-packages (from requests->vaderSentiment) (3.7)\n",
            "Requirement already satisfied: urllib3<3,>=1.21.1 in /usr/local/lib/python3.10/dist-packages (from requests->vaderSentiment) (2.0.7)\n",
            "Requirement already satisfied: certifi>=2017.4.17 in /usr/local/lib/python3.10/dist-packages (from requests->vaderSentiment) (2024.2.2)\n"
          ]
        }
      ],
      "source": [
        "pip install vaderSentiment"
      ]
    },
    {
      "cell_type": "code",
      "source": [],
      "metadata": {
        "id": "trm7axZKCTEs"
      },
      "execution_count": null,
      "outputs": []
    },
    {
      "cell_type": "code",
      "execution_count": null,
      "metadata": {
        "colab": {
          "base_uri": "https://localhost:8080/"
        },
        "id": "6RUpPVY9_YMW",
        "outputId": "52537f75-d47c-4ce3-d201-572a161def61"
      },
      "outputs": [
        {
          "output_type": "stream",
          "name": "stdout",
          "text": [
            "Data exported to real_estate_articles.csv\n"
          ]
        }
      ],
      "source": [
        "import csv\n",
        "import requests\n",
        "\n",
        "# API key for New York Times\n",
        "api_key = \"JwmbAISGUUKEcDO545gv84IMdEo4z1Qu\"\n",
        "\n",
        "# Function to fetch articles from the New York Times API\n",
        "def fetch_articles(api_key, query, begin_date, end_date, page=0):\n",
        "    url = \"https://api.nytimes.com/svc/search/v2/articlesearch.json\"\n",
        "    params = {\n",
        "        \"api-key\": api_key,\n",
        "        \"q\": query,\n",
        "        \"begin_date\": begin_date,\n",
        "        \"end_date\": end_date,\n",
        "        \"page\": page\n",
        "    }\n",
        "    response = requests.get(url, params=params)\n",
        "    if response.status_code == 200:\n",
        "        return response.json()\n",
        "    else:\n",
        "        print(\"Error:\", response.status_code)\n",
        "        return None\n",
        "\n",
        "# Query parameters\n",
        "query_keywords = [\"house prices\", \"mortgage rates\", \"real estate market\", \"housing affordabity\"]\n",
        "begin_date = \"2014-04-17\"  # Ten years ago\n",
        "end_date = \"2024-04-17\"\n",
        "\n",
        "# Fetch articles\n",
        "articles = fetch_articles(api_key, query_keywords, begin_date, end_date)\n",
        "\n",
        "if articles:\n",
        "    # Open a CSV file to write the data\n",
        "    with open(\"real_estate_articles.csv\", \"w\", newline=\"\", encoding=\"utf-8\") as csvfile:\n",
        "        fieldnames = [\"Headline\", \"Snippet\"]\n",
        "        writer = csv.DictWriter(csvfile, fieldnames=fieldnames)\n",
        "\n",
        "        # Write header\n",
        "        writer.writeheader()\n",
        "\n",
        "        # Iterate through each article and write to CSV\n",
        "        for article in articles[\"response\"][\"docs\"]:\n",
        "            headline = article[\"headline\"][\"main\"]\n",
        "            snippet = article[\"snippet\"]\n",
        "\n",
        "            # Write data to CSV\n",
        "            writer.writerow({\"Headline\": headline, \"Snippet\": snippet})\n",
        "    print(\"Data exported to real_estate_articles.csv\")\n",
        "else:\n",
        "    print(\"No articles found.\")\n"
      ]
    },
    {
      "cell_type": "code",
      "source": [],
      "metadata": {
        "id": "V0PtdZO5HP6p"
      },
      "execution_count": null,
      "outputs": []
    },
    {
      "cell_type": "code",
      "source": [
        "import pandas as pd\n",
        "import requests\n",
        "from vaderSentiment.vaderSentiment import SentimentIntensityAnalyzer\n",
        "import matplotlib.pyplot as plt\n",
        "\n",
        "# Function to fetch articles from the New York Times API\n",
        "def fetch_articles(api_key, query, begin_date, end_date, page=0):\n",
        "    url = \"https://api.nytimes.com/svc/search/v2/articlesearch.json\"\n",
        "    params = {\n",
        "        \"api-key\": api_key,\n",
        "        \"q\": query,\n",
        "        \"begin_date\": begin_date,\n",
        "        \"end_date\": end_date,\n",
        "        \"page\": page\n",
        "    }\n",
        "    response = requests.get(url, params=params)\n",
        "    if response.status_code == 200:\n",
        "        return response.json()\n",
        "    else:\n",
        "        print(\"Error:\", response.status_code)\n",
        "        return None\n",
        "\n",
        "# Function to perform sentiment analysis using Vader\n",
        "def analyze_sentiment(text):\n",
        "    analyzer = SentimentIntensityAnalyzer()\n",
        "    sentiment = analyzer.polarity_scores(text)\n",
        "    return sentiment\n",
        "\n",
        "# Read the CSV file containing articles\n",
        "try:\n",
        "    df = pd.read_csv('real_estate_articles.csv')\n",
        "except FileNotFoundError:\n",
        "    print(\"Error: CSV file not found.\")\n",
        "    exit(1)\n",
        "\n",
        "# Initialize sentiment counts\n",
        "sentiments = {\"positive\": 0, \"negative\": 0, \"neutral\": 0}\n",
        "\n",
        "# Iterate through articles, perform sentiment analysis, and accumulate counts\n",
        "for snippet in df['Snippet']:\n",
        "    # Check for missing values\n",
        "    if pd.isnull(snippet):\n",
        "        continue\n",
        "\n",
        "    # Sentiment analysis\n",
        "    sentiment = analyze_sentiment(snippet)\n",
        "\n",
        "    # Classify sentiment and accumulate counts\n",
        "    if sentiment[\"compound\"] > 0.05:\n",
        "        sentiments[\"positive\"] += 1\n",
        "    elif sentiment[\"compound\"] < -0.05:\n",
        "        sentiments[\"negative\"] += 1\n",
        "    else:\n",
        "        sentiments[\"neutral\"] += 1\n",
        "\n",
        "# Plotting sentiment distribution as a bar chart\n",
        "labels = sentiments.keys()\n",
        "counts = sentiments.values()\n",
        "plt.bar(labels, counts, color=['green', 'red', 'blue'])\n",
        "plt.title('Sentiment Distribution of Housing Market Articles')\n",
        "plt.xlabel('Sentiment')\n",
        "plt.ylabel('Count')\n",
        "plt.show()\n"
      ],
      "metadata": {
        "colab": {
          "base_uri": "https://localhost:8080/",
          "height": 472
        },
        "id": "WdvyyrJrGyuq",
        "outputId": "9f83bda8-08a2-49c2-ddd8-cdbb22c45ee5"
      },
      "execution_count": null,
      "outputs": [
        {
          "output_type": "display_data",
          "data": {
            "text/plain": [
              "<Figure size 640x480 with 1 Axes>"
            ],
            "image/png": "[encoded data removed]"
          },
          "metadata": {}
        }
      ]
    },
    {
      "cell_type": "code",
      "source": [
        "# Read the CSV file containing articles\n",
        "try:\n",
        "    df = pd.read_csv('real_estate_articles.csv')\n",
        "except FileNotFoundError:\n",
        "    print(\"Error: CSV file not found.\")\n",
        "    exit(1)\n",
        "\n",
        "# Get the number of articles\n",
        "num_articles = len(df)\n",
        "print(\"Number of articles included:\", num_articles)\n"
      ],
      "metadata": {
        "colab": {
          "base_uri": "https://localhost:8080/"
        },
        "id": "XBjfpFZfHGmB",
        "outputId": "71619af5-4936-4216-b831-14e07c8d6796"
      },
      "execution_count": null,
      "outputs": [
        {
          "output_type": "stream",
          "name": "stdout",
          "text": [
            "Number of articles included: 10\n"
          ]
        }
      ]
    },
    {
      "cell_type": "code",
      "source": [
        "import csv\n",
        "import requests\n",
        "from vaderSentiment.vaderSentiment import SentimentIntensityAnalyzer\n",
        "import matplotlib.pyplot as plt\n",
        "\n",
        "# Function to fetch articles from the New York Times API\n",
        "def fetch_articles(api_key, query, begin_date, end_date, page=0):\n",
        "    url = \"https://api.nytimes.com/svc/search/v2/articlesearch.json\"\n",
        "    params = {\n",
        "        \"api-key\": api_key,\n",
        "        \"q\": query,\n",
        "        \"begin_date\": begin_date,\n",
        "        \"end_date\": end_date,\n",
        "        \"page\": page\n",
        "    }\n",
        "    response = requests.get(url, params=params)\n",
        "    if response.status_code == 200:\n",
        "        return response.json()\n",
        "    else:\n",
        "        print(\"Error:\", response.status_code)\n",
        "        return None\n",
        "\n",
        "# Function to perform sentiment analysis using Vader\n",
        "def analyze_sentiment(text):\n",
        "    analyzer = SentimentIntensityAnalyzer()\n",
        "    sentiment = analyzer.polarity_scores(text)\n",
        "    return sentiment\n",
        "\n",
        "# Query parameters\n",
        "query_keywords = [\"house prices\", \"mortgage rates\", \"real estate market\"]\n",
        "begin_date = \"2014-04-17\"  # Ten years ago\n",
        "end_date = \"2024-04-17\"\n",
        "\n",
        "# Fetch articles\n",
        "articles = fetch_articles(api_key, query_keywords, begin_date, end_date)\n",
        "\n",
        "if articles:\n",
        "    # Initialize sentiment counts\n",
        "    sentiments = {\"positive\": 0, \"negative\": 0, \"neutral\": 0}\n",
        "\n",
        "    # Iterate through articles, perform sentiment analysis, and accumulate counts\n",
        "    for article in articles[\"response\"][\"docs\"]:\n",
        "        snippet = article[\"snippet\"]\n",
        "\n",
        "        # Sentiment analysis\n",
        "        sentiment = analyze_sentiment(snippet)\n",
        "\n",
        "        # Classify sentiment and accumulate counts\n",
        "        if sentiment[\"compound\"] > 0.05:\n",
        "            sentiments[\"positive\"] += 1\n",
        "        elif sentiment[\"compound\"] < -0.05:\n",
        "            sentiments[\"negative\"] += 1\n",
        "        else:\n",
        "            sentiments[\"neutral\"] += 1\n",
        "\n",
        "    # Plotting sentiment distribution as a bar chart\n",
        "    labels = sentiments.keys()\n",
        "    counts = sentiments.values()\n",
        "    plt.bar(labels, counts, color=['green', 'red', 'blue'])\n",
        "    plt.title('Sentiment Distribution of Housing Market Articles')\n",
        "    plt.xlabel('Sentiment')\n",
        "    plt.ylabel('Count')\n",
        "    plt.show()\n",
        "else:\n",
        "    print(\"No articles found.\")\n"
      ],
      "metadata": {
        "colab": {
          "base_uri": "https://localhost:8080/",
          "height": 472
        },
        "outputId": "ceac7d30-0a33-47da-bb26-49098328ef16",
        "id": "p4Q9q-v3uMch"
      },
      "execution_count": null,
      "outputs": [
        {
          "output_type": "display_data",
          "data": {
            "text/plain": [
              "<Figure size 640x480 with 1 Axes>"
            ],
            "image/png": "[encoded data removed]"
          },
          "metadata": {}
        }
      ]
    },
    {
      "cell_type": "code",
      "source": [],
      "metadata": {
        "id": "TRh-rvYDEuJu"
      },
      "execution_count": null,
      "outputs": []
    },
    {
      "cell_type": "code",
      "source": [
        "import csv\n",
        "import requests\n",
        "from vaderSentiment.vaderSentiment import SentimentIntensityAnalyzer\n",
        "import matplotlib.pyplot as plt\n",
        "\n",
        "# API key for New York Times\n",
        "api_key = \"JwmbAISGUUKEcDO545gv84IMdEo4z1Qu\"\n",
        "\n",
        "# Function to fetch articles from the New York Times API\n",
        "def fetch_articles(api_key, query, begin_date, end_date, page=0):\n",
        "    url = \"https://api.nytimes.com/svc/search/v2/articlesearch.json\"\n",
        "    params = {\n",
        "        \"api-key\": api_key,\n",
        "        \"q\": query,\n",
        "        \"begin_date\": begin_date,\n",
        "        \"end_date\": end_date,\n",
        "        \"page\": page\n",
        "    }\n",
        "    response = requests.get(url, params=params)\n",
        "    if response.status_code == 200:\n",
        "        return response.json()\n",
        "    else:\n",
        "        print(\"Error:\", response.status_code)\n",
        "        return None\n",
        "\n",
        "# Function to perform sentiment analysis using Vader\n",
        "def analyze_sentiment(text):\n",
        "    analyzer = SentimentIntensityAnalyzer()\n",
        "    sentiment = analyzer.polarity_scores(text)\n",
        "    return sentiment\n",
        "\n",
        "# Query parameters\n",
        "query_keywords = [\"house prices\", \"mortgage rates\", \"real estate market\"]\n",
        "begin_date = \"2014-04-17\"  # Ten years ago\n",
        "end_date = \"2024-04-17\"\n",
        "\n",
        "# Fetch articles\n",
        "articles = fetch_articles(api_key, query_keywords, begin_date, end_date)\n",
        "\n",
        "if articles:\n",
        "    # Initialize sentiment counts\n",
        "    sentiments = {\"positive\": 0, \"negative\": 0, \"neutral\": 0}\n",
        "\n",
        "    # Initialize lists to store article information\n",
        "    headlines = []\n",
        "    snippets = []\n",
        "    pub_dates = []\n",
        "\n",
        "    # Iterate through articles, perform sentiment analysis, and accumulate counts\n",
        "    for article in articles[\"response\"][\"docs\"]:\n",
        "        headline = article[\"headline\"][\"main\"]\n",
        "        snippet = article[\"snippet\"]\n",
        "        pub_date = article[\"pub_date\"]\n",
        "\n",
        "        # Sentiment analysis\n",
        "        sentiment = analyze_sentiment(snippet)\n",
        "\n",
        "        # Classify sentiment and accumulate counts\n",
        "        if sentiment[\"compound\"] > 0.05:\n",
        "            sentiments[\"positive\"] += 1\n",
        "        elif sentiment[\"compound\"] < -0.05:\n",
        "            sentiments[\"negative\"] += 1\n",
        "        else:\n",
        "            sentiments[\"neutral\"] += 1\n",
        "\n",
        "        # Append article information to lists\n",
        "        headlines.append(headline)\n",
        "        snippets.append(snippet)\n",
        "        pub_dates.append(pub_date)\n",
        "\n",
        "    # Plotting sentiment distribution as a bar chart\n",
        "    labels = sentiments.keys()\n",
        "    counts = sentiments.values()\n",
        "    plt.bar(labels, counts, color=['green', 'red', 'blue'])\n",
        "    plt.title('Sentiment Distribution of Housing Market Articles')\n",
        "    plt.xlabel('Sentiment')\n",
        "    plt.ylabel('Count')\n",
        "    plt.show()\n",
        "\n",
        "    # Displaying articles and published dates\n",
        "    for i in range(len(headlines)):\n",
        "        print(\"Headline:\", headlines[i])\n",
        "        print(\"Published Date:\", pub_dates[i])\n",
        "        print(\"Snippet:\", snippets[i])\n",
        "        print(\"-------------------------------------\")\n",
        "else:\n",
        "    print(\"No articles found.\")\n"
      ],
      "metadata": {
        "colab": {
          "base_uri": "https://localhost:8080/",
          "height": 1000
        },
        "id": "P32v7q89EJYh",
        "outputId": "d44fddff-ef94-4d53-92c8-073667318cf4"
      },
      "execution_count": null,
      "outputs": [
        {
          "output_type": "display_data",
          "data": {
            "text/plain": [
              "<Figure size 640x480 with 1 Axes>"
            ],
            "image/png": "[encoded data removed]"
          },
          "metadata": {}
        },
        {
          "output_type": "stream",
          "name": "stdout",
          "text": [
            "Headline: How to Navigate the Coronavirus Real Estate Market\n",
            "Published Date: 2020-07-31T10:00:11+0000\n",
            "Snippet: Suburbs and fashionable exurbs are hot, but don’t forget that home prices have fallen before, a Nobel laureate warns.\n",
            "-------------------------------------\n",
            "Headline: Rising Mortgage Rates Add to the Challenge of Buying a House\n",
            "Published Date: 2022-02-18T14:00:10+0000\n",
            "Snippet: The average rate on a 30-year, fixed-rate mortgage is now the highest since May 2019. And home prices are expected to rise, though probably more slowly.\n",
            "-------------------------------------\n",
            "Headline: The Housing Market Needs More Than Low Mortgage Rates\n",
            "Published Date: 2019-10-31T09:00:26+0000\n",
            "Snippet: Low rates don’t help much if you can’t get a loan or can’t afford a home.\n",
            "-------------------------------------\n",
            "Headline: China Tries to Ease Drop in Real Estate Prices\n",
            "Published Date: 2014-05-19T11:53:47+0000\n",
            "Snippet: Government economists expect property restrictions to remain in place in major cities, but with some local authorities given leeway to support their markets.\n",
            "-------------------------------------\n",
            "Headline: Falling Mortgage Rates Bring Some Home Buyers Back to Market\n",
            "Published Date: 2023-02-02T10:00:25+0000\n",
            "Snippet: The average rate on a 30-year fixed-rate mortgage fell to 6.09 percent this week, the lowest in five months. Buyers are returning, but experts say the state of the economy will drive the market’s next moves.\n",
            "-------------------------------------\n",
            "Headline: Feeling Mortgage-Rate Envy? You’re Not Alone.\n",
            "Published Date: 2023-08-04T09:01:04+0000\n",
            "Snippet: With interest rates climbing, a new form of one-upmanship is making the rounds: the mortgage-rate humble brag.\n",
            "-------------------------------------\n",
            "Headline: Mortgage Rates Jump Above 6% for First Time Since 2008\n",
            "Published Date: 2022-09-15T14:02:02+0000\n",
            "Snippet: They have been on the rise since the start of the year as the Federal Reserve has affirmed its commitment to tame soaring inflation.\n",
            "-------------------------------------\n",
            "Headline: A Challenge to Real Estate Commissions Gains Ground\n",
            "Published Date: 2020-10-09T13:00:07+0000\n",
            "Snippet: In a lawsuit, home sellers say that the current system is anticompetitive and that they overpaid. The Realtors association disagrees.\n",
            "-------------------------------------\n",
            "Headline: Real Estate’s Latest Bid: Zillow Wants to Buy Your House\n",
            "Published Date: 2019-05-07T09:00:13+0000\n",
            "Snippet: Offering “instant buying” to home sellers, companies like Zillow and Opendoor are bringing liquidity to the housing market. Critics fear they will also bring risk.\n",
            "-------------------------------------\n",
            "Headline: Mortgage rates climb to 5% for the first time since 2011.\n",
            "Published Date: 2022-04-14T18:09:09+0000\n",
            "Snippet: The increase adds another burden for home buyers who were already struggling with rising prices.\n",
            "-------------------------------------\n"
          ]
        }
      ]
    }
  ]
}
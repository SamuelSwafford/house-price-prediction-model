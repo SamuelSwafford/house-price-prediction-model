{
 "cells": [
  {
   "cell_type": "markdown",
   "metadata": {},
   "source": [
    "# Comparison of Linear Regression Models\n",
    "\n",
    "This notebook compares two linear regression models to predict real estate prices:\n",
    "1. A model that incorporates zip codes as a predictor variable.\n",
    "2. A model that is specific to a single zip code.\n",
    "\n",
    "We aim to understand how the inclusion of geographic segmentation (zip codes) as a variable affects the model performance compared to a model trained on data from a specific zip code.\n"
   ]
  },
  {
   "cell_type": "code",
   "execution_count": 10,
   "metadata": {},
   "outputs": [],
   "source": [
    "import pandas as pd\n",
    "import numpy as np\n",
    "from model_training_funcs import get_model_with_zip, get_model_for_zip\n",
    "import warnings\n",
    "warnings.filterwarnings(\"ignore\")\n"
   ]
  },
  {
   "cell_type": "code",
   "execution_count": 11,
   "metadata": {},
   "outputs": [
    {
     "name": "stdout",
     "output_type": "stream",
     "text": [
      "Data loading and cleaning functions are encapsulated within the model functions.\n"
     ]
    }
   ],
   "source": [
    "# This is handled within the functions, so no need to load data here.\n",
    "# Just an informational cell.\n",
    "print(\"Data loading and cleaning functions are encapsulated within the model functions.\")\n"
   ]
  },
  {
   "cell_type": "code",
   "execution_count": 12,
   "metadata": {},
   "outputs": [
    {
     "name": "stdout",
     "output_type": "stream",
     "text": [
      "Model with Zip Codes as Predictors: RMSE = 377200.6817884638, R-squared = 0.5909159887906463\n"
     ]
    }
   ],
   "source": [
    "# Model using zip codes as a predictor\n",
    "model_with_zip, rmse_with_zip, r_squared_with_zip = get_model_with_zip()\n",
    "print(f\"Model with Zip Codes as Predictors: RMSE = {rmse_with_zip}, R-squared = {r_squared_with_zip}\")\n"
   ]
  },
  {
   "cell_type": "code",
   "execution_count": 13,
   "metadata": {},
   "outputs": [
    {
     "name": "stdout",
     "output_type": "stream",
     "text": [
      "Model for Zip Code 78660: RMSE = 42708.71002938853, R-squared = 0.9005311593567898\n"
     ]
    }
   ],
   "source": [
    "# Model for a specific zip code (e.g., 78660)\n",
    "zip_code = 78660\n",
    "model_for_zip, rmse_for_zip, r_squared_for_zip = get_model_for_zip(zip_code)\n",
    "print(f\"Model for Zip Code {zip_code}: RMSE = {rmse_for_zip}, R-squared = {r_squared_for_zip}\")\n"
   ]
  },
  {
   "cell_type": "markdown",
   "metadata": {},
   "source": [
    "## Model Comparison Results\n",
    "\n",
    "The comparison of the two models indicates the following:\n",
    "- **Model with Zip Codes as Predictors**:\n",
    "  - RMSE: `rmse_with_zip`\n",
    "  - R-squared: `r_squared_with_zip`\n",
    "- **Model for Specific Zip Code (78660)**:\n",
    "  - RMSE: `rmse_for_zip`\n",
    "  - R-squared: `r_squared_for_zip`\n",
    "\n",
    "From these results, we can observe that (provide a brief analysis based on the RMSE and R-squared values).\n"
   ]
  },
  {
   "cell_type": "markdown",
   "metadata": {},
   "source": [
    "## Conclusion\n",
    "\n",
    "This analysis provides insight into how the scope of training data, either generalized or specific, influences the performance of predictive modeling in real estate. Depending on the results, we can conclude whether broader geographic factors or local specificity is more predictive of real estate prices in our models.\n"
   ]
  }
 ],
 "metadata": {
  "kernelspec": {
   "display_name": "bootcamp",
   "language": "python",
   "name": "python3"
  },
  "language_info": {
   "codemirror_mode": {
    "name": "ipython",
    "version": 3
   },
   "file_extension": ".py",
   "mimetype": "text/x-python",
   "name": "python",
   "nbconvert_exporter": "python",
   "pygments_lexer": "ipython3",
   "version": "3.11.5"
  }
 },
 "nbformat": 4,
 "nbformat_minor": 2
}

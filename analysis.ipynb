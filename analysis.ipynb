{
 "cells": [
  {
   "cell_type": "markdown",
   "metadata": {},
   "source": [
    "# Comparison of Linear Regression Models\n",
    "\n",
    "This notebook compares two linear regression models to predict real estate prices:\n",
    "1. A model that incorporates zip codes as a predictor variable.\n",
    "2. A model that is specific to a single zip code.\n",
    "\n",
    "We aim to understand how the inclusion of geographic segmentation (zip codes) as a variable affects the model performance compared to a model trained on data from a specific zip code.\n"
   ]
  },
  {
   "cell_type": "code",
   "execution_count": 32,
   "metadata": {},
   "outputs": [
    {
     "data": {
      "text/html": [
       "<div>\n",
       "<style scoped>\n",
       "    .dataframe tbody tr th:only-of-type {\n",
       "        vertical-align: middle;\n",
       "    }\n",
       "\n",
       "    .dataframe tbody tr th {\n",
       "        vertical-align: top;\n",
       "    }\n",
       "\n",
       "    .dataframe thead th {\n",
       "        text-align: right;\n",
       "    }\n",
       "</style>\n",
       "<table border=\"1\" class=\"dataframe\">\n",
       "  <thead>\n",
       "    <tr style=\"text-align: right;\">\n",
       "      <th></th>\n",
       "      <th>#</th>\n",
       "      <th>Listing ID</th>\n",
       "      <th>St</th>\n",
       "      <th>MLS Area</th>\n",
       "      <th>Address</th>\n",
       "      <th># Beds</th>\n",
       "      <th># Full Baths</th>\n",
       "      <th># Half Baths</th>\n",
       "      <th># Garage Spaces</th>\n",
       "      <th>Levels</th>\n",
       "      <th>...</th>\n",
       "      <th>SqFt</th>\n",
       "      <th>List Price</th>\n",
       "      <th>LP$/SqFt</th>\n",
       "      <th>Close$/SqFt</th>\n",
       "      <th>Close Price</th>\n",
       "      <th>Close Date</th>\n",
       "      <th>DOM</th>\n",
       "      <th>CDOM</th>\n",
       "      <th>Zip Code</th>\n",
       "      <th>Type of Home</th>\n",
       "    </tr>\n",
       "  </thead>\n",
       "  <tbody>\n",
       "    <tr>\n",
       "      <th>0</th>\n",
       "      <td>1</td>\n",
       "      <td>6996515</td>\n",
       "      <td>C</td>\n",
       "      <td>HU</td>\n",
       "      <td>21608 Wilmiller Ln</td>\n",
       "      <td>4</td>\n",
       "      <td>2</td>\n",
       "      <td>1</td>\n",
       "      <td>2.0</td>\n",
       "      <td>2</td>\n",
       "      <td>...</td>\n",
       "      <td>2,581</td>\n",
       "      <td>$435,000</td>\n",
       "      <td>$168.54</td>\n",
       "      <td>$169.31</td>\n",
       "      <td>$437,000</td>\n",
       "      <td>03/05/2024</td>\n",
       "      <td>4</td>\n",
       "      <td>4</td>\n",
       "      <td>78660</td>\n",
       "      <td>Single Family</td>\n",
       "    </tr>\n",
       "    <tr>\n",
       "      <th>1</th>\n",
       "      <td>1</td>\n",
       "      <td>1659174</td>\n",
       "      <td>C</td>\n",
       "      <td>PF</td>\n",
       "      <td>808 Whitehall Dr</td>\n",
       "      <td>3</td>\n",
       "      <td>2</td>\n",
       "      <td>0</td>\n",
       "      <td>2.0</td>\n",
       "      <td>1</td>\n",
       "      <td>...</td>\n",
       "      <td>1,299</td>\n",
       "      <td>$275,000</td>\n",
       "      <td>$211.70</td>\n",
       "      <td>$184.76</td>\n",
       "      <td>$240,000</td>\n",
       "      <td>12/29/2023</td>\n",
       "      <td>8</td>\n",
       "      <td>7</td>\n",
       "      <td>78660</td>\n",
       "      <td>Single Family</td>\n",
       "    </tr>\n",
       "    <tr>\n",
       "      <th>2</th>\n",
       "      <td>1</td>\n",
       "      <td>5349770</td>\n",
       "      <td>C</td>\n",
       "      <td>PF</td>\n",
       "      <td>16131 Stoneham Cir</td>\n",
       "      <td>3</td>\n",
       "      <td>2</td>\n",
       "      <td>0</td>\n",
       "      <td>1.0</td>\n",
       "      <td>1</td>\n",
       "      <td>...</td>\n",
       "      <td>1,033</td>\n",
       "      <td>$265,000</td>\n",
       "      <td>$256.53</td>\n",
       "      <td>$242.01</td>\n",
       "      <td>$250,000</td>\n",
       "      <td>11/14/2023</td>\n",
       "      <td>20</td>\n",
       "      <td>20</td>\n",
       "      <td>78660</td>\n",
       "      <td>Single Family</td>\n",
       "    </tr>\n",
       "    <tr>\n",
       "      <th>3</th>\n",
       "      <td>1</td>\n",
       "      <td>7256633</td>\n",
       "      <td>C</td>\n",
       "      <td>PF</td>\n",
       "      <td>17228 Sandwick Dr</td>\n",
       "      <td>3</td>\n",
       "      <td>2</td>\n",
       "      <td>0</td>\n",
       "      <td>2.0</td>\n",
       "      <td>1</td>\n",
       "      <td>...</td>\n",
       "      <td>2,046</td>\n",
       "      <td>$235,000</td>\n",
       "      <td>$114.86</td>\n",
       "      <td>$123.66</td>\n",
       "      <td>$253,000</td>\n",
       "      <td>01/30/2024</td>\n",
       "      <td>4</td>\n",
       "      <td>4</td>\n",
       "      <td>78660</td>\n",
       "      <td>Single Family</td>\n",
       "    </tr>\n",
       "    <tr>\n",
       "      <th>4</th>\n",
       "      <td>1</td>\n",
       "      <td>8113439</td>\n",
       "      <td>C</td>\n",
       "      <td>PF</td>\n",
       "      <td>15520 Sutton Leighs Ln</td>\n",
       "      <td>3</td>\n",
       "      <td>2</td>\n",
       "      <td>0</td>\n",
       "      <td>2.0</td>\n",
       "      <td>1</td>\n",
       "      <td>...</td>\n",
       "      <td>1,616</td>\n",
       "      <td>$398,000</td>\n",
       "      <td>$246.29</td>\n",
       "      <td>$160.89</td>\n",
       "      <td>$260,000</td>\n",
       "      <td>10/30/2023</td>\n",
       "      <td>48</td>\n",
       "      <td>48</td>\n",
       "      <td>78660</td>\n",
       "      <td>Single Family</td>\n",
       "    </tr>\n",
       "  </tbody>\n",
       "</table>\n",
       "<p>5 rows × 22 columns</p>\n",
       "</div>"
      ],
      "text/plain": [
       "   #  Listing ID St MLS Area                 Address  # Beds  # Full Baths  \\\n",
       "0  1     6996515  C       HU      21608 Wilmiller Ln       4             2   \n",
       "1  1     1659174  C       PF        808 Whitehall Dr       3             2   \n",
       "2  1     5349770  C       PF      16131 Stoneham Cir       3             2   \n",
       "3  1     7256633  C       PF       17228 Sandwick Dr       3             2   \n",
       "4  1     8113439  C       PF  15520 Sutton Leighs Ln       3             2   \n",
       "\n",
       "   # Half Baths  # Garage Spaces Levels  ...   SqFt  List Price LP$/SqFt  \\\n",
       "0             1              2.0      2  ...  2,581    $435,000  $168.54   \n",
       "1             0              2.0      1  ...  1,299    $275,000  $211.70   \n",
       "2             0              1.0      1  ...  1,033    $265,000  $256.53   \n",
       "3             0              2.0      1  ...  2,046    $235,000  $114.86   \n",
       "4             0              2.0      1  ...  1,616    $398,000  $246.29   \n",
       "\n",
       "  Close$/SqFt Close Price  Close Date DOM CDOM  Zip Code   Type of Home  \n",
       "0     $169.31    $437,000  03/05/2024   4    4     78660  Single Family  \n",
       "1     $184.76    $240,000  12/29/2023   8    7     78660  Single Family  \n",
       "2     $242.01    $250,000  11/14/2023  20   20     78660  Single Family  \n",
       "3     $123.66    $253,000  01/30/2024   4    4     78660  Single Family  \n",
       "4     $160.89    $260,000  10/30/2023  48   48     78660  Single Family  \n",
       "\n",
       "[5 rows x 22 columns]"
      ]
     },
     "execution_count": 32,
     "metadata": {},
     "output_type": "execute_result"
    }
   ],
   "source": [
    "import pandas as pd\n",
    "import numpy as np\n",
    "from linear_model_funcs import get_model_with_zip, get_model_for_zip\n",
    "import warnings\n",
    "import matplotlib.pyplot as plt\n",
    "warnings.filterwarnings(\"ignore\")\n",
    "df = pd.read_csv('data.csv')\n",
    "df.head()\n"
   ]
  },
  {
   "cell_type": "code",
   "execution_count": 33,
   "metadata": {},
   "outputs": [
    {
     "name": "stdout",
     "output_type": "stream",
     "text": [
      "Data loading and cleaning functions are encapsulated within the model functions.\n"
     ]
    }
   ],
   "source": [
    "# This is handled within the functions, so no need to load data here.\n",
    "# Just an informational cell.\n",
    "print(\"Data loading and cleaning functions are encapsulated within the model functions.\")\n"
   ]
  },
  {
   "cell_type": "code",
   "execution_count": 34,
   "metadata": {},
   "outputs": [
    {
     "name": "stdout",
     "output_type": "stream",
     "text": [
      "Model with Zip Codes as Predictors: RMSE = 377200.6817884638, R-squared = 0.5909159887906463\n"
     ]
    }
   ],
   "source": [
    "# Model using zip codes as a predictor\n",
    "model_with_zip, rmse_with_zip, r_squared_with_zip = get_model_with_zip()\n",
    "print(f\"Model with Zip Codes as Predictors: RMSE = {rmse_with_zip}, R-squared = {r_squared_with_zip}\")\n"
   ]
  },
  {
   "cell_type": "code",
   "execution_count": 35,
   "metadata": {},
   "outputs": [],
   "source": [
    "zips = df['Zip Code'].unique()"
   ]
  },
  {
   "cell_type": "code",
   "execution_count": 36,
   "metadata": {},
   "outputs": [
    {
     "data": {
      "text/plain": [
       "Zip Code\n",
       "78660    517\n",
       "78642    455\n",
       "78666    408\n",
       "78620    232\n",
       "78744    206\n",
       "78664    166\n",
       "78746     99\n",
       "78701     61\n",
       "78758     30\n",
       "Name: count, dtype: int64"
      ]
     },
     "execution_count": 36,
     "metadata": {},
     "output_type": "execute_result"
    }
   ],
   "source": [
    "df['Zip Code'].value_counts()"
   ]
  },
  {
   "cell_type": "code",
   "execution_count": 37,
   "metadata": {},
   "outputs": [
    {
     "name": "stdout",
     "output_type": "stream",
     "text": [
      "78660\n",
      "Model for Zip Code 78660: RMSE = 42708.71002938853, R-squared = 0.9005311593567898\n",
      "78744\n",
      "Model for Zip Code 78744: RMSE = 74245.29666153088, R-squared = 0.7100305832826173\n",
      "78746\n",
      "Model for Zip Code 78746: RMSE = 1161559.8027745523, R-squared = 0.030885039141173465\n",
      "78701\n",
      "No data available for ZIP code 78701 with Single Family homes.\n",
      "Model for Zip Code 78701: RMSE = None, R-squared = None\n",
      "78642\n",
      "Model for Zip Code 78642: RMSE = 89341.87605587009, R-squared = 0.8644930704995539\n",
      "78666\n",
      "Model for Zip Code 78666: RMSE = 78197.04647215671, R-squared = 0.8404992480766511\n",
      "78664\n",
      "Model for Zip Code 78664: RMSE = 70680.82703230758, R-squared = 0.5135521001511654\n",
      "78758\n",
      "No data available for ZIP code 78758 with Single Family homes.\n",
      "Model for Zip Code 78758: RMSE = None, R-squared = None\n",
      "78620\n",
      "Model for Zip Code 78620: RMSE = 341923.4142503515, R-squared = 0.660368982635865\n"
     ]
    }
   ],
   "source": [
    "# Model for a specific zip code (e.g., 78660)\n",
    "zrsdic = {}\n",
    "rslist = []\n",
    "for zip in zips:\n",
    "    zip_code = zip\n",
    "    print(zip)\n",
    "    model_for_zip, rmse_for_zip, r_squared_for_zip = get_model_for_zip(zip_code)\n",
    "    print(f\"Model for Zip Code {zip_code}: RMSE = {rmse_for_zip}, R-squared = {r_squared_for_zip}\")\n",
    "    if r_squared_for_zip is not None:\n",
    "        rslist.append(r_squared_for_zip)\n",
    "        zrsdic[zip] = r_squared_for_zip , df[df['Zip Code'] == zip].shape[0]\n"
   ]
  },
  {
   "cell_type": "code",
   "execution_count": 38,
   "metadata": {},
   "outputs": [
    {
     "data": {
      "text/plain": [
       "{78660: (0.9005311593567898, 517),\n",
       " 78744: (0.7100305832826173, 206),\n",
       " 78746: (0.030885039141173465, 99),\n",
       " 78642: (0.8644930704995539, 455),\n",
       " 78666: (0.8404992480766511, 408),\n",
       " 78664: (0.5135521001511654, 166),\n",
       " 78620: (0.660368982635865, 232)}"
      ]
     },
     "execution_count": 38,
     "metadata": {},
     "output_type": "execute_result"
    }
   ],
   "source": [
    "zrsdic"
   ]
  },
  {
   "cell_type": "code",
   "execution_count": 39,
   "metadata": {},
   "outputs": [
    {
     "data": {
      "text/plain": [
       "{78660: (0.9005311593567898, 517),\n",
       " 78744: (0.7100305832826173, 206),\n",
       " 78746: (0.030885039141173465, 99),\n",
       " 78642: (0.8644930704995539, 455),\n",
       " 78666: (0.8404992480766511, 408),\n",
       " 78664: (0.5135521001511654, 166),\n",
       " 78620: (0.660368982635865, 232)}"
      ]
     },
     "execution_count": 39,
     "metadata": {},
     "output_type": "execute_result"
    }
   ],
   "source": [
    "zrsdic"
   ]
  },
  {
   "cell_type": "code",
   "execution_count": 40,
   "metadata": {},
   "outputs": [
    {
     "data": {
      "image/png": "[encoded data removed]",
      "text/plain": [
       "<Figure size 800x500 with 1 Axes>"
      ]
     },
     "metadata": {},
     "output_type": "display_data"
    }
   ],
   "source": [
    "\n",
    "cs = [] # initialize list of sample sizes\n",
    "rs = [] # initialize list of R-squared values\n",
    "for zip in zrsdic.keys():\n",
    "    cs.append(df[df['Zip Code'] == zip].shape[0])\n",
    "    rs.append(zrsdic[zip][0])\n",
    "\n",
    "\n",
    "import numpy as np\n",
    "import matplotlib.pyplot as plt\n",
    "from scipy.optimize import curve_fit\n",
    "from sklearn.metrics import r2_score\n",
    "\n",
    "# Logarithmic function to fit\n",
    "def log_func(x, a, b):\n",
    "    return a + b * np.log(x)\n",
    "\n",
    "# Fit the model\n",
    "popt, pcov = curve_fit(log_func, cs, rs)\n",
    "\n",
    "# Predicted values from the fit\n",
    "rs_pred = log_func(cs, *popt)\n",
    "\n",
    "# R-squared value\n",
    "r_squared = r2_score(rs, rs_pred)\n",
    "\n",
    "# Plotting\n",
    "plt.figure(figsize=(8, 5))\n",
    "plt.scatter(cs, rs, color='blue', label='Data')\n",
    "x, y = np.linspace(0 , max(cs), 100), log_func(np.linspace(0, max(cs), 100), *popt)\n",
    "plt.plot(x, y, color='red', label=f'Fit: a + b*log(x)\\na={popt[0]:.2f}, b={popt[1]:.2f}\\n$R^2$={r_squared:.2f}')\n",
    "plt.xlabel('Sample Size')\n",
    "plt.ylabel('R-Squared of Model')\n",
    "plt.title('Linear Regression of Model R-Square as a Function of The Sample Size')\n",
    "plt.legend()\n",
    "plt.savefig('linear_model_img/Linear Regression of Model R-Square as a Function of The Sample Size.png', dpi = 300)\n",
    "plt.show()\n",
    "\n"
   ]
  },
  {
   "cell_type": "markdown",
   "metadata": {},
   "source": [
    "## Model Comparison Results\n",
    "\n",
    "The comparison of the two models indicates the following:\n",
    "- **Model with Zip Codes as Predictors**:\n",
    "  - RMSE: `rmse_with_zip`\n",
    "  - R-squared: `r_squared_with_zip`\n",
    "- **Model for Specific Zip Code (78660)**:\n",
    "  - RMSE: `rmse_for_zip`\n",
    "  - R-squared: `r_squared_for_zip`\n",
    "\n",
    "From these results, we can observe that (provide a brief analysis based on the RMSE and R-squared values).\n"
   ]
  },
  {
   "cell_type": "markdown",
   "metadata": {},
   "source": [
    "## Conclusion\n",
    "\n",
    "This analysis provides insight into how the scope of training data, either generalized or specific, influences the performance of predictive modeling in real estate. Depending on the results, we can conclude whether broader geographic factors or local specificity is more predictive of real estate prices in our models.\n"
   ]
  }
 ],
 "metadata": {
  "kernelspec": {
   "display_name": "bootcamp",
   "language": "python",
   "name": "python3"
  },
  "language_info": {
   "codemirror_mode": {
    "name": "ipython",
    "version": 3
   },
   "file_extension": ".py",
   "mimetype": "text/x-python",
   "name": "python",
   "nbconvert_exporter": "python",
   "pygments_lexer": "ipython3",
   "version": "3.11.5"
  }
 },
 "nbformat": 4,
 "nbformat_minor": 2
}

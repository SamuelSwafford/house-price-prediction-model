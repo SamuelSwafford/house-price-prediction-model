{
 "cells": [
  {
   "cell_type": "markdown",
   "metadata": {},
   "source": [
    "# Comparison of Linear Regression Models\n",
    "\n",
    "This notebook compares two linear regression models to predict real estate prices:\n",
    "1. A model that incorporates zip codes as a predictor variable.\n",
    "2. A model that is specific to a single zip code.\n",
    "\n",
    "We aim to understand how the inclusion of geographic segmentation (zip codes) as a variable affects the model performance compared to a model trained on data from a specific zip code.\n"
   ]
  },
  {
   "cell_type": "code",
   "execution_count": 1,
   "metadata": {},
   "outputs": [
    {
     "data": {
      "text/html": [
       "<div>\n",
       "<style scoped>\n",
       "    .dataframe tbody tr th:only-of-type {\n",
       "        vertical-align: middle;\n",
       "    }\n",
       "\n",
       "    .dataframe tbody tr th {\n",
       "        vertical-align: top;\n",
       "    }\n",
       "\n",
       "    .dataframe thead th {\n",
       "        text-align: right;\n",
       "    }\n",
       "</style>\n",
       "<table border=\"1\" class=\"dataframe\">\n",
       "  <thead>\n",
       "    <tr style=\"text-align: right;\">\n",
       "      <th></th>\n",
       "      <th>#</th>\n",
       "      <th>Listing ID</th>\n",
       "      <th>St</th>\n",
       "      <th>MLS Area</th>\n",
       "      <th>Address</th>\n",
       "      <th># Beds</th>\n",
       "      <th># Full Baths</th>\n",
       "      <th># Half Baths</th>\n",
       "      <th># Garage Spaces</th>\n",
       "      <th>Levels</th>\n",
       "      <th>...</th>\n",
       "      <th>SqFt</th>\n",
       "      <th>List Price</th>\n",
       "      <th>LP$/SqFt</th>\n",
       "      <th>Close$/SqFt</th>\n",
       "      <th>Close Price</th>\n",
       "      <th>Close Date</th>\n",
       "      <th>DOM</th>\n",
       "      <th>CDOM</th>\n",
       "      <th>Zip Code</th>\n",
       "      <th>Type of Home</th>\n",
       "    </tr>\n",
       "  </thead>\n",
       "  <tbody>\n",
       "    <tr>\n",
       "      <th>0</th>\n",
       "      <td>1</td>\n",
       "      <td>6996515</td>\n",
       "      <td>C</td>\n",
       "      <td>HU</td>\n",
       "      <td>21608 Wilmiller Ln</td>\n",
       "      <td>4</td>\n",
       "      <td>2</td>\n",
       "      <td>1</td>\n",
       "      <td>2.0</td>\n",
       "      <td>2</td>\n",
       "      <td>...</td>\n",
       "      <td>2,581</td>\n",
       "      <td>$435,000</td>\n",
       "      <td>$168.54</td>\n",
       "      <td>$169.31</td>\n",
       "      <td>$437,000</td>\n",
       "      <td>03/05/2024</td>\n",
       "      <td>4</td>\n",
       "      <td>4</td>\n",
       "      <td>78660</td>\n",
       "      <td>Single Family</td>\n",
       "    </tr>\n",
       "    <tr>\n",
       "      <th>1</th>\n",
       "      <td>1</td>\n",
       "      <td>1659174</td>\n",
       "      <td>C</td>\n",
       "      <td>PF</td>\n",
       "      <td>808 Whitehall Dr</td>\n",
       "      <td>3</td>\n",
       "      <td>2</td>\n",
       "      <td>0</td>\n",
       "      <td>2.0</td>\n",
       "      <td>1</td>\n",
       "      <td>...</td>\n",
       "      <td>1,299</td>\n",
       "      <td>$275,000</td>\n",
       "      <td>$211.70</td>\n",
       "      <td>$184.76</td>\n",
       "      <td>$240,000</td>\n",
       "      <td>12/29/2023</td>\n",
       "      <td>8</td>\n",
       "      <td>7</td>\n",
       "      <td>78660</td>\n",
       "      <td>Single Family</td>\n",
       "    </tr>\n",
       "    <tr>\n",
       "      <th>2</th>\n",
       "      <td>1</td>\n",
       "      <td>5349770</td>\n",
       "      <td>C</td>\n",
       "      <td>PF</td>\n",
       "      <td>16131 Stoneham Cir</td>\n",
       "      <td>3</td>\n",
       "      <td>2</td>\n",
       "      <td>0</td>\n",
       "      <td>1.0</td>\n",
       "      <td>1</td>\n",
       "      <td>...</td>\n",
       "      <td>1,033</td>\n",
       "      <td>$265,000</td>\n",
       "      <td>$256.53</td>\n",
       "      <td>$242.01</td>\n",
       "      <td>$250,000</td>\n",
       "      <td>11/14/2023</td>\n",
       "      <td>20</td>\n",
       "      <td>20</td>\n",
       "      <td>78660</td>\n",
       "      <td>Single Family</td>\n",
       "    </tr>\n",
       "    <tr>\n",
       "      <th>3</th>\n",
       "      <td>1</td>\n",
       "      <td>7256633</td>\n",
       "      <td>C</td>\n",
       "      <td>PF</td>\n",
       "      <td>17228 Sandwick Dr</td>\n",
       "      <td>3</td>\n",
       "      <td>2</td>\n",
       "      <td>0</td>\n",
       "      <td>2.0</td>\n",
       "      <td>1</td>\n",
       "      <td>...</td>\n",
       "      <td>2,046</td>\n",
       "      <td>$235,000</td>\n",
       "      <td>$114.86</td>\n",
       "      <td>$123.66</td>\n",
       "      <td>$253,000</td>\n",
       "      <td>01/30/2024</td>\n",
       "      <td>4</td>\n",
       "      <td>4</td>\n",
       "      <td>78660</td>\n",
       "      <td>Single Family</td>\n",
       "    </tr>\n",
       "    <tr>\n",
       "      <th>4</th>\n",
       "      <td>1</td>\n",
       "      <td>8113439</td>\n",
       "      <td>C</td>\n",
       "      <td>PF</td>\n",
       "      <td>15520 Sutton Leighs Ln</td>\n",
       "      <td>3</td>\n",
       "      <td>2</td>\n",
       "      <td>0</td>\n",
       "      <td>2.0</td>\n",
       "      <td>1</td>\n",
       "      <td>...</td>\n",
       "      <td>1,616</td>\n",
       "      <td>$398,000</td>\n",
       "      <td>$246.29</td>\n",
       "      <td>$160.89</td>\n",
       "      <td>$260,000</td>\n",
       "      <td>10/30/2023</td>\n",
       "      <td>48</td>\n",
       "      <td>48</td>\n",
       "      <td>78660</td>\n",
       "      <td>Single Family</td>\n",
       "    </tr>\n",
       "  </tbody>\n",
       "</table>\n",
       "<p>5 rows × 22 columns</p>\n",
       "</div>"
      ],
      "text/plain": [
       "   #  Listing ID St MLS Area                 Address  # Beds  # Full Baths  \\\n",
       "0  1     6996515  C       HU      21608 Wilmiller Ln       4             2   \n",
       "1  1     1659174  C       PF        808 Whitehall Dr       3             2   \n",
       "2  1     5349770  C       PF      16131 Stoneham Cir       3             2   \n",
       "3  1     7256633  C       PF       17228 Sandwick Dr       3             2   \n",
       "4  1     8113439  C       PF  15520 Sutton Leighs Ln       3             2   \n",
       "\n",
       "   # Half Baths  # Garage Spaces Levels  ...   SqFt  List Price LP$/SqFt  \\\n",
       "0             1              2.0      2  ...  2,581    $435,000  $168.54   \n",
       "1             0              2.0      1  ...  1,299    $275,000  $211.70   \n",
       "2             0              1.0      1  ...  1,033    $265,000  $256.53   \n",
       "3             0              2.0      1  ...  2,046    $235,000  $114.86   \n",
       "4             0              2.0      1  ...  1,616    $398,000  $246.29   \n",
       "\n",
       "  Close$/SqFt Close Price  Close Date DOM CDOM  Zip Code   Type of Home  \n",
       "0     $169.31    $437,000  03/05/2024   4    4     78660  Single Family  \n",
       "1     $184.76    $240,000  12/29/2023   8    7     78660  Single Family  \n",
       "2     $242.01    $250,000  11/14/2023  20   20     78660  Single Family  \n",
       "3     $123.66    $253,000  01/30/2024   4    4     78660  Single Family  \n",
       "4     $160.89    $260,000  10/30/2023  48   48     78660  Single Family  \n",
       "\n",
       "[5 rows x 22 columns]"
      ]
     },
     "execution_count": 1,
     "metadata": {},
     "output_type": "execute_result"
    }
   ],
   "source": [
    "import pandas as pd\n",
    "import numpy as np\n",
    "from linear_model_funcs import get_model_with_zip, get_model_for_zip\n",
    "import warnings\n",
    "import matplotlib.pyplot as plt\n",
    "warnings.filterwarnings(\"ignore\")\n",
    "df = pd.read_csv('data.csv')\n",
    "df.head()\n"
   ]
  },
  {
   "cell_type": "code",
   "execution_count": 2,
   "metadata": {},
   "outputs": [
    {
     "name": "stdout",
     "output_type": "stream",
     "text": [
      "Data loading and cleaning functions are encapsulated within the model functions.\n"
     ]
    }
   ],
   "source": [
    "# This is handled within the functions, so no need to load data here.\n",
    "# Just an informational cell.\n",
    "print(\"Data loading and cleaning functions are encapsulated within the model functions.\")\n"
   ]
  },
  {
   "cell_type": "code",
   "execution_count": 3,
   "metadata": {},
   "outputs": [
    {
     "name": "stdout",
     "output_type": "stream",
     "text": [
      "Model with Zip Codes as Predictors: RMSE = 376917.1993655347, R-squared = 0.5915306459467755\n"
     ]
    }
   ],
   "source": [
    "# Model using zip codes as a predictor\n",
    "model_with_zip, rmse_with_zip, r_squared_with_zip = get_model_with_zip()\n",
    "print(f\"Model with Zip Codes as Predictors: RMSE = {rmse_with_zip}, R-squared = {r_squared_with_zip}\")\n"
   ]
  },
  {
   "cell_type": "code",
   "execution_count": 4,
   "metadata": {},
   "outputs": [],
   "source": [
    "zips = df['Zip Code'].unique()"
   ]
  },
  {
   "cell_type": "code",
   "execution_count": 5,
   "metadata": {},
   "outputs": [
    {
     "data": {
      "text/plain": [
       "Zip Code\n",
       "78660    517\n",
       "78642    455\n",
       "78666    408\n",
       "78620    232\n",
       "78744    206\n",
       "78664    166\n",
       "78746     99\n",
       "78701     61\n",
       "78758     30\n",
       "Name: count, dtype: int64"
      ]
     },
     "execution_count": 5,
     "metadata": {},
     "output_type": "execute_result"
    }
   ],
   "source": [
    "df['Zip Code'].value_counts()"
   ]
  },
  {
   "cell_type": "code",
   "execution_count": 6,
   "metadata": {},
   "outputs": [
    {
     "name": "stdout",
     "output_type": "stream",
     "text": [
      "78660\n",
      "Model for Zip Code 78660: RMSE = 50434.81456238485, R-squared = 0.8612876899489225\n",
      "78744\n",
      "Model for Zip Code 78744: RMSE = 74245.2966615287, R-squared = 0.7100305832826344\n",
      "78746\n",
      "Model for Zip Code 78746: RMSE = 1161559.8027745557, R-squared = 0.03088503914116769\n",
      "78701\n",
      "No data available for ZIP code 78701 with Single Family homes.\n",
      "Model for Zip Code 78701: RMSE = None, R-squared = None\n",
      "78642\n",
      "Model for Zip Code 78642: RMSE = 89341.8760558694, R-squared = 0.8644930704995559\n",
      "78666\n",
      "Model for Zip Code 78666: RMSE = 78197.04647215777, R-squared = 0.8404992480766468\n",
      "78664\n",
      "Model for Zip Code 78664: RMSE = 70680.82703230967, R-squared = 0.513552100151137\n",
      "78758\n",
      "No data available for ZIP code 78758 with Single Family homes.\n",
      "Model for Zip Code 78758: RMSE = None, R-squared = None\n",
      "78620\n",
      "Model for Zip Code 78620: RMSE = 341923.4142503448, R-squared = 0.6603689826358783\n"
     ]
    }
   ],
   "source": [
    "# Model for a specific zip code (e.g., 78660)\n",
    "zrsdic = {}\n",
    "rslist = []\n",
    "for zip in zips:\n",
    "    zip_code = zip\n",
    "    print(zip)\n",
    "    model_for_zip, rmse_for_zip, r_squared_for_zip = get_model_for_zip(zip_code)\n",
    "    print(f\"Model for Zip Code {zip_code}: RMSE = {rmse_for_zip}, R-squared = {r_squared_for_zip}\")\n",
    "    if r_squared_for_zip is not None:\n",
    "        rslist.append(r_squared_for_zip)\n",
    "        zrsdic[zip] = r_squared_for_zip , df[df['Zip Code'] == zip].shape[0]\n"
   ]
  },
  {
   "cell_type": "code",
   "execution_count": 7,
   "metadata": {},
   "outputs": [
    {
     "data": {
      "text/plain": [
       "{78660: (0.8612876899489225, 517),\n",
       " 78744: (0.7100305832826344, 206),\n",
       " 78746: (0.03088503914116769, 99),\n",
       " 78642: (0.8644930704995559, 455),\n",
       " 78666: (0.8404992480766468, 408),\n",
       " 78664: (0.513552100151137, 166),\n",
       " 78620: (0.6603689826358783, 232)}"
      ]
     },
     "execution_count": 7,
     "metadata": {},
     "output_type": "execute_result"
    }
   ],
   "source": [
    "zrsdic"
   ]
  },
  {
   "cell_type": "code",
   "execution_count": 15,
   "metadata": {},
   "outputs": [
    {
     "data": {
      "text/html": [
       "<div>\n",
       "<style scoped>\n",
       "    .dataframe tbody tr th:only-of-type {\n",
       "        vertical-align: middle;\n",
       "    }\n",
       "\n",
       "    .dataframe tbody tr th {\n",
       "        vertical-align: top;\n",
       "    }\n",
       "\n",
       "    .dataframe thead th {\n",
       "        text-align: right;\n",
       "    }\n",
       "</style>\n",
       "<table border=\"1\" class=\"dataframe\">\n",
       "  <thead>\n",
       "    <tr style=\"text-align: right;\">\n",
       "      <th></th>\n",
       "      <th>R-squared</th>\n",
       "      <th>Count</th>\n",
       "    </tr>\n",
       "  </thead>\n",
       "  <tbody>\n",
       "    <tr>\n",
       "      <th>78642</th>\n",
       "      <td>0.864493</td>\n",
       "      <td>455</td>\n",
       "    </tr>\n",
       "    <tr>\n",
       "      <th>78660</th>\n",
       "      <td>0.861288</td>\n",
       "      <td>517</td>\n",
       "    </tr>\n",
       "    <tr>\n",
       "      <th>78666</th>\n",
       "      <td>0.840499</td>\n",
       "      <td>408</td>\n",
       "    </tr>\n",
       "    <tr>\n",
       "      <th>78744</th>\n",
       "      <td>0.710031</td>\n",
       "      <td>206</td>\n",
       "    </tr>\n",
       "    <tr>\n",
       "      <th>78620</th>\n",
       "      <td>0.660369</td>\n",
       "      <td>232</td>\n",
       "    </tr>\n",
       "    <tr>\n",
       "      <th>78664</th>\n",
       "      <td>0.513552</td>\n",
       "      <td>166</td>\n",
       "    </tr>\n",
       "    <tr>\n",
       "      <th>78746</th>\n",
       "      <td>0.030885</td>\n",
       "      <td>99</td>\n",
       "    </tr>\n",
       "  </tbody>\n",
       "</table>\n",
       "</div>"
      ],
      "text/plain": [
       "       R-squared  Count\n",
       "78642   0.864493    455\n",
       "78660   0.861288    517\n",
       "78666   0.840499    408\n",
       "78744   0.710031    206\n",
       "78620   0.660369    232\n",
       "78664   0.513552    166\n",
       "78746   0.030885     99"
      ]
     },
     "execution_count": 15,
     "metadata": {},
     "output_type": "execute_result"
    }
   ],
   "source": [
    "zrdf = pd.DataFrame.from_dict(zrsdic, orient='index', columns=['R-squared', 'Count'])\n",
    "zrdf = zrdf.sort_values(by='R-squared', ascending=False)\n",
    "zrdf.head(10)"
   ]
  },
  {
   "cell_type": "code",
   "execution_count": 14,
   "metadata": {},
   "outputs": [
    {
     "data": {
      "image/png": "[encoded data removed]",
      "text/plain": [
       "<Figure size 800x500 with 1 Axes>"
      ]
     },
     "metadata": {},
     "output_type": "display_data"
    }
   ],
   "source": [
    "\n",
    "cs = [] # initialize list of sample sizes\n",
    "rs = [] # initialize list of R-squared values\n",
    "for zip in zrsdic.keys():\n",
    "    cs.append(df[df['Zip Code'] == zip].shape[0])\n",
    "    rs.append(zrsdic[zip][0])\n",
    "\n",
    "\n",
    "import numpy as np\n",
    "import matplotlib.pyplot as plt\n",
    "from scipy.optimize import curve_fit\n",
    "from sklearn.metrics import r2_score\n",
    "\n",
    "# Logarithmic function to fit\n",
    "def log_func(x, a, b, c):\n",
    "    return a + b * np.log(x+c)\n",
    "\n",
    "# Fit the model\n",
    "popt, pcov = curve_fit(log_func, cs, rs)\n",
    "\n",
    "# Predicted values from the fit\n",
    "rs_pred = log_func(cs, *popt)\n",
    "\n",
    "# R-squared value\n",
    "r_squared = r2_score(rs, rs_pred)\n",
    "\n",
    "# Plotting\n",
    "plt.figure(figsize=(8, 5))\n",
    "x, y = np.linspace(10, max(cs), 100), log_func(np.linspace(0, max(cs), 100), *popt)\n",
    "plt.plot(x, y, color='red', label=f'Fit: a + b*log(x+c)\\na={popt[0]:.2f}, b={popt[1]:.2f}, c={popt[2]:.2f}\\n$R^2$={r_squared:.2f}')\n",
    "plt.plot(cs, rs,'x',color='blue', label='Data')\n",
    "plt.xlabel('Sample Size')\n",
    "plt.ylabel('R-Squared of Model')\n",
    "plt.title('Linear Regression of Model R-Square as a Function of The Sample Size')\n",
    "plt.legend()\n",
    "plt.savefig('linear_model_img/Linear Regression of Model R-Square as a Function of The Sample Size.png', dpi = 300)\n",
    "plt.show()\n",
    "\n"
   ]
  },
  {
   "cell_type": "code",
   "execution_count": null,
   "metadata": {},
   "outputs": [],
   "source": []
  },
  {
   "cell_type": "code",
   "execution_count": 10,
   "metadata": {},
   "outputs": [
    {
     "name": "stdout",
     "output_type": "stream",
     "text": [
      "List Price: $450000\n",
      "Predicted Price: $469893.48\n",
      "Difference: $19893.48\n"
     ]
    }
   ],
   "source": [
    "url = 'https://www.zillow.com/homedetails/13509-Clerk-St-Pflugerville-TX-78660/331621525_zpid/'\n",
    "\n",
    "# Data from the Zillow listing\n",
    "listing_data = {\n",
    "    '# Beds': [4],  \n",
    "    '# Full Baths': [2],  \n",
    "    '# Half Baths': [1],\n",
    "    '# Garage Spaces': [2],\n",
    "    'Year Built': [2019],\n",
    "    'Acres': [0.1399],\n",
    "    'SqFt': [2603], \n",
    "    'DOM':[2],\n",
    "    'CDOM':[2],\n",
    "    'Zip Code': [78660] \n",
    "}\n",
    "\n",
    "# Convert listing data to DataFrame\n",
    "df_listing = pd.DataFrame(listing_data)\n",
    "\n",
    "# Convert listing data to DataFrame\n",
    "df_listing = pd.DataFrame(listing_data)\n",
    "\n",
    "# Load your model for the specific zip code\n",
    "model, rmse, r_squared = get_model_for_zip(78660)\n",
    "\n",
    "# Check if the model is valid (i.e., training was successful)\n",
    "if model is not None:\n",
    "    # Predict the price using the model\n",
    "    predicted_price = model.predict(df_listing)\n",
    "\n",
    "    # Assuming the list price is also available\n",
    "    list_price = 450000  # Example list price\n",
    "\n",
    "    # Output comparison\n",
    "    print(f\"List Price: ${list_price}\")\n",
    "    print(f\"Predicted Price: ${predicted_price[0]:.2f}\")\n",
    "    print(f\"Difference: ${predicted_price[0] - list_price:.2f}\")\n",
    "else:\n",
    "    print(\"No model available for this zip code, or insufficient data to train model.\")"
   ]
  },
  {
   "cell_type": "code",
   "execution_count": 11,
   "metadata": {},
   "outputs": [
    {
     "name": "stdout",
     "output_type": "stream",
     "text": [
      "List Price: $499999\n",
      "Predicted Price: $490312.60\n",
      "Difference: $-9686.40\n"
     ]
    }
   ],
   "source": [
    "    url = 'https://www.zillow.com/homedetails/21412-Windmill-Ranch-Ave-Pflugerville-TX-78660/145655853_zpid/?'\n",
    "\n",
    "    # Data from the Zillow listing\n",
    "    listing_data = {\n",
    "        '# Beds': [4],  \n",
    "        '# Full Baths': [2],  \n",
    "        '# Half Baths': [1],\n",
    "        '# Garage Spaces': [2],\n",
    "        'Year Built': [2015],\n",
    "        'Acres': [0.26],\n",
    "        'SqFt': [2834], \n",
    "        'DOM':[293],\n",
    "        'CDOM':[293],\n",
    "        'Zip Code': [78660] \n",
    "    }\n",
    "\n",
    "    # Convert listing data to DataFrame\n",
    "    df_listing = pd.DataFrame(listing_data)\n",
    "\n",
    "    # Convert listing data to DataFrame\n",
    "    df_listing = pd.DataFrame(listing_data)\n",
    "\n",
    "    # Load your model for the specific zip code\n",
    "    model, rmse, r_squared = get_model_for_zip(78660)\n",
    "\n",
    "    # Check if the model is valid (i.e., training was successful)\n",
    "    if model is not None:\n",
    "        # Predict the price using the model\n",
    "        predicted_price = model.predict(df_listing)\n",
    "\n",
    "        # Assuming the list price is also available\n",
    "        list_price = 499999  # Example list price\n",
    "\n",
    "        # Output comparison\n",
    "        print(f\"List Price: ${list_price}\")\n",
    "        print(f\"Predicted Price: ${predicted_price[0]:.2f}\")\n",
    "        print(f\"Difference: ${predicted_price[0] - list_price:.2f}\")\n",
    "    else:\n",
    "        print(\"No model available for this zip code, or insufficient data to train model.\")"
   ]
  },
  {
   "cell_type": "code",
   "execution_count": 12,
   "metadata": {},
   "outputs": [
    {
     "name": "stdout",
     "output_type": "stream",
     "text": [
      "List Price: $899999\n",
      "Predicted Price: $731849.26\n",
      "Difference: $-168149.74\n"
     ]
    }
   ],
   "source": [
    "url = 'https://www.zillow.com/homedetails/1209-Vapor-Dr-Pflugerville-TX-78660/29453080_zpid/'\n",
    "\n",
    "# Data from the Zillow listing\n",
    "listing_data = {\n",
    "    '# Beds': [6],  \n",
    "    '# Full Baths': [4],  \n",
    "    '# Half Baths': [0],\n",
    "    '# Garage Spaces': [6],\n",
    "    'Year Built': [1978],\n",
    "    'Acres': [1.1],\n",
    "    'SqFt': [2863], \n",
    "    'DOM':[1],\n",
    "    'CDOM':[1],\n",
    "    'Zip Code': [78660] \n",
    "}\n",
    "\n",
    "# Convert listing data to DataFrame\n",
    "df_listing = pd.DataFrame(listing_data)\n",
    "\n",
    "# Convert listing data to DataFrame\n",
    "df_listing = pd.DataFrame(listing_data)\n",
    "\n",
    "# Load your model for the specific zip code\n",
    "model, rmse, r_squared = get_model_for_zip(78660)\n",
    "\n",
    "# Check if the model is valid (i.e., training was successful)\n",
    "if model is not None:\n",
    "    # Predict the price using the model\n",
    "    predicted_price = model.predict(df_listing)\n",
    "\n",
    "    # Assuming the list price is also available\n",
    "    list_price = 899999  # Example list price\n",
    "\n",
    "    # Output comparison\n",
    "    print(f\"List Price: ${list_price}\")\n",
    "    print(f\"Predicted Price: ${predicted_price[0]:.2f}\")\n",
    "    print(f\"Difference: ${predicted_price[0] - list_price:.2f}\")\n",
    "else:\n",
    "    print(\"No model available for this zip code, or insufficient data to train model.\")"
   ]
  },
  {
   "cell_type": "code",
   "execution_count": null,
   "metadata": {},
   "outputs": [],
   "source": []
  },
  {
   "cell_type": "markdown",
   "metadata": {},
   "source": [
    "## Model Comparison Results\n",
    "\n",
    "The comparison of the two models indicates the following:\n",
    "- **Model with Zip Codes as Predictors**:\n",
    "  - RMSE: `rmse_with_zip`\n",
    "  - R-squared: `r_squared_with_zip`\n",
    "- **Model for Specific Zip Code (78660)**:\n",
    "  - RMSE: `rmse_for_zip`\n",
    "  - R-squared: `r_squared_for_zip`\n",
    "\n",
    "From these results, we can observe that (provide a brief analysis based on the RMSE and R-squared values).\n"
   ]
  },
  {
   "cell_type": "markdown",
   "metadata": {},
   "source": [
    "## Conclusion\n",
    "\n",
    "This analysis provides insight into how the scope of training data, either generalized or specific, influences the performance of predictive modeling in real estate. Depending on the results, we can conclude whether broader geographic factors or local specificity is more predictive of real estate prices in our models.\n"
   ]
  }
 ],
 "metadata": {
  "kernelspec": {
   "display_name": "bootcamp",
   "language": "python",
   "name": "python3"
  },
  "language_info": {
   "codemirror_mode": {
    "name": "ipython",
    "version": 3
   },
   "file_extension": ".py",
   "mimetype": "text/x-python",
   "name": "python",
   "nbconvert_exporter": "python",
   "pygments_lexer": "ipython3",
   "version": "3.11.5"
  }
 },
 "nbformat": 4,
 "nbformat_minor": 2
}

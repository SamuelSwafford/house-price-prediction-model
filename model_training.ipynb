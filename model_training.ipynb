{
 "cells": [
  {
   "cell_type": "code",
   "execution_count": 16,
   "metadata": {},
   "outputs": [
    {
     "name": "stdout",
     "output_type": "stream",
     "text": [
      "Root Mean Squared Error: 982684.9713569605\n",
      "R-squared: -0.36978318949591515\n"
     ]
    }
   ],
   "source": [
    "import pandas as pd\n",
    "from sklearn.model_selection import train_test_split\n",
    "from sklearn.linear_model import LinearRegression\n",
    "from sklearn.metrics import mean_squared_error\n",
    "\n",
    "# Load the data\n",
    "data = pd.read_csv('data.csv')\n",
    "\n",
    "# Data cleaning: Convert currency to floats and handle numeric fields properly\n",
    "columns_to_clean = ['List Price', 'Close Price', 'SqFt', 'LP$/SqFt', 'Close$/SqFt']\n",
    "for column in columns_to_clean:\n",
    "    data[column] = data[column].replace('[\\$,]', '', regex=True).replace(',', '', regex=True).astype(float)\n",
    "\n",
    "# Handle 'Levels' data using one-hot encoding\n",
    "data = pd.get_dummies(data, columns=['Levels'])\n",
    "\n",
    "# Filter the dataset for a specific MLS Area, e.g., '1A'\n",
    "data_specific_area = data[data['MLS Area'] == '1A']\n",
    "\n",
    "# Drop the 'MLS Area' as it is not needed anymore after filtering\n",
    "data_specific_area = data_specific_area.drop(columns=['MLS Area'])\n",
    "\n",
    "# Define the features and target variable for the filtered dataset\n",
    "X_specific_area = data_specific_area.drop(columns=['Listing ID', 'St', 'Address', 'Close Price', 'Close Date', 'List Price', 'LP$/SqFt', 'Close$/SqFt'])\n",
    "y_specific_area = data_specific_area['Close Price']\n",
    "\n",
    "# Split the dataset into training and testing sets\n",
    "X_train_specific_area, X_test_specific_area, y_train_specific_area, y_test_specific_area = train_test_split(X_specific_area, y_specific_area, test_size=0.2, random_state=42)\n",
    "\n",
    "# Initialize and train the Linear Regression model\n",
    "model_specific_area = LinearRegression()\n",
    "model_specific_area.fit(X_train_specific_area, y_train_specific_area)\n",
    "\n",
    "# Make predictions and evaluate the model\n",
    "predictions_specific_area = model_specific_area.predict(X_test_specific_area)\n",
    "mse_specific_area = mean_squared_error(y_test_specific_area, predictions_specific_area)\n",
    "rmse_specific_area = np.sqrt(mse_specific_area)\n",
    "r_squared = model_specific_area.score(X_test_specific_area, y_test_specific_area)\n",
    "\n",
    "print(f'Root Mean Squared Error: {rmse_specific_area}')\n",
    "print(f'R-squared: {r_squared}')\n"
   ]
  },
  {
   "cell_type": "code",
   "execution_count": null,
   "metadata": {},
   "outputs": [],
   "source": []
  }
 ],
 "metadata": {
  "kernelspec": {
   "display_name": "bootcamp",
   "language": "python",
   "name": "python3"
  },
  "language_info": {
   "codemirror_mode": {
    "name": "ipython",
    "version": 3
   },
   "file_extension": ".py",
   "mimetype": "text/x-python",
   "name": "python",
   "nbconvert_exporter": "python",
   "pygments_lexer": "ipython3",
   "version": "3.11.5"
  }
 },
 "nbformat": 4,
 "nbformat_minor": 2
}
